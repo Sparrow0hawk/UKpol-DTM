{
 "cells": [
  {
   "cell_type": "markdown",
   "id": "9571185c-0e12-4e1f-9ba6-19a53f25287a",
   "metadata": {},
   "source": [
    "# Notebook for scraping data from British Political Speech Archive\n",
    "\n",
    "Before dynamic topic modelling can begin we need to get the speech data we want to use. We're going to use party leaders speeches from party conferences for all available parties since 1945.\n",
    "\n",
    "In this notebook we'll just do some web scraping to get all of the speech text data into a format we can subsequently explore and topic model."
   ]
  },
  {
   "cell_type": "code",
   "execution_count": null,
   "id": "0d94fd27-74b1-4e39-960b-1744cee89a09",
   "metadata": {},
   "outputs": [],
   "source": [
    "# import libraries\n",
    "\n",
    "# import library for querying website\n",
    "import re\n",
    "import pandas as pd\n",
    "import os\n",
    "import requests\n",
    "from bs4 import BeautifulSoup"
   ]
  },
  {
   "cell_type": "markdown",
   "id": "d3c31a5c-ac03-478a-ae19-337c7a6e30a6",
   "metadata": {},
   "source": [
    "## Create initial table of links\n",
    "\n",
    "First we need to create a table of speeches including links to the web pages containing the speeches themselves."
   ]
  },
  {
   "cell_type": "code",
   "execution_count": null,
   "id": "4c5f7195-3657-4412-bead-70a7fb08681c",
   "metadata": {},
   "outputs": [],
   "source": [
    "URL = 'http://www.britishpoliticalspeech.org/speech-archive.htm?q=&speaker=&party=&searchRangeFrom=1945&searchRangeTo=2018'"
   ]
  },
  {
   "cell_type": "code",
   "execution_count": null,
   "id": "7ae10334-6ef2-4991-b3a3-4426a3e4afc9",
   "metadata": {},
   "outputs": [],
   "source": [
    "primary_url = 'http://www.britishpoliticalspeech.org/'"
   ]
  },
  {
   "cell_type": "code",
   "execution_count": null,
   "id": "3e946cef-b184-405e-a8b5-c1244b918ee1",
   "metadata": {},
   "outputs": [],
   "source": [
    "# first use pandas to scrap the initial table data\n",
    "tbls = pd.read_html(URL)\n",
    "\n",
    "main_tbl = tbls[1]"
   ]
  },
  {
   "cell_type": "code",
   "execution_count": null,
   "id": "7f01e100-41dd-439a-bc6d-13350c017f25",
   "metadata": {},
   "outputs": [],
   "source": [
    "# select our rows with the title we want\n",
    "main_tbl = main_tbl[main_tbl.Title.str.contains(\"Leader\\'s\")]\n",
    "\n",
    "main_tbl.reset_index(drop=True, inplace=True)"
   ]
  },
  {
   "cell_type": "code",
   "execution_count": null,
   "id": "8efc4606-0511-4c69-8385-3653c99a30fd",
   "metadata": {},
   "outputs": [],
   "source": [
    "main_tbl.shape"
   ]
  },
  {
   "cell_type": "code",
   "execution_count": null,
   "id": "1b14502e-b6bf-46f1-af11-0f60683dfb61",
   "metadata": {},
   "outputs": [],
   "source": [
    "page = requests.get(URL)\n",
    "\n",
    "soup = BeautifulSoup(page.content, 'html.parser')"
   ]
  },
  {
   "cell_type": "code",
   "execution_count": null,
   "id": "3fafe1bb-27e7-4b63-90fa-ebe5d516d414",
   "metadata": {},
   "outputs": [],
   "source": [
    "results_table = soup.find('table', class_=\"results-table\")"
   ]
  },
  {
   "cell_type": "code",
   "execution_count": null,
   "id": "93d0ead1-4f86-4721-b8f0-641b9ac1c6f8",
   "metadata": {},
   "outputs": [],
   "source": [
    "tbl_links = results_table.find_all('a', string=lambda text: 'leader\\'s' in text.lower(), href=True)"
   ]
  },
  {
   "cell_type": "code",
   "execution_count": null,
   "id": "5b183d91-e75d-445f-a1eb-eaa4b95d36f1",
   "metadata": {},
   "outputs": [],
   "source": [
    "# check if table is same no. of rows as scraped links\n",
    "assert main_tbl.shape[0] == len(tbl_links)"
   ]
  },
  {
   "cell_type": "code",
   "execution_count": null,
   "id": "f6e46ccb-c303-4f33-923b-e99d0a34e577",
   "metadata": {},
   "outputs": [],
   "source": [
    "main_tbl.shape"
   ]
  },
  {
   "cell_type": "code",
   "execution_count": null,
   "id": "559eabb3-9aa3-419c-a3d5-b9cfa5d72045",
   "metadata": {},
   "outputs": [],
   "source": [
    "# create series of urls\n",
    "url_srs = pd.Series([primary_url + a['href'] for a in tbl_links])\n",
    "\n",
    "url_srs.name = 'url'"
   ]
  },
  {
   "cell_type": "code",
   "execution_count": null,
   "id": "de897cc4-28b6-4b75-949e-0437823f7c99",
   "metadata": {},
   "outputs": [],
   "source": [
    "main_tbl = pd.concat([main_tbl, url_srs], axis=1)"
   ]
  },
  {
   "cell_type": "code",
   "execution_count": null,
   "id": "8a68bf8c-8422-45dd-bdbc-54370fd46fb4",
   "metadata": {},
   "outputs": [],
   "source": [
    "main_tbl"
   ]
  },
  {
   "cell_type": "markdown",
   "id": "66bef6e5-43a3-47a1-a448-b07168192b6b",
   "metadata": {},
   "source": [
    "## Scrape speech text from links\n",
    "\n",
    "Now we'll scrape the speech text from each page in our `main_tbl` and add that to the pandas dataframe object."
   ]
  },
  {
   "cell_type": "code",
   "execution_count": null,
   "id": "5e4dfa73-9953-4aff-85bd-fc0f620618a3",
   "metadata": {},
   "outputs": [],
   "source": [
    "main_tbl.url[0]"
   ]
  },
  {
   "cell_type": "code",
   "execution_count": null,
   "id": "88e022be-c7f5-4baf-83f2-25fb8b2c3c86",
   "metadata": {
    "scrolled": true,
    "tags": []
   },
   "outputs": [],
   "source": [
    "def fetch_speech(url):\n",
    "    \"\"\"\n",
    "    For a given url return text in speech-content div element\n",
    "    \"\"\"\n",
    "    \n",
    "    page = requests.get(url)\n",
    "\n",
    "    soup = BeautifulSoup(page.content, 'html.parser')\n",
    "    \n",
    "    return soup.find('div', class_='speech-content').get_text()"
   ]
  },
  {
   "cell_type": "code",
   "execution_count": null,
   "id": "c84895ae-2157-4325-bd16-7d94bba57f2b",
   "metadata": {},
   "outputs": [],
   "source": [
    "main_tbl['speech-text'] = main_tbl.url.apply(fetch_speech)"
   ]
  },
  {
   "cell_type": "code",
   "execution_count": null,
   "id": "70dab3ea-aa8e-44cf-b346-3349a6d2252c",
   "metadata": {},
   "outputs": [],
   "source": [
    "main_tbl.to_csv(os.path.join('..','data','leaders-speeches.csv'), index=False)"
   ]
  }
 ],
 "metadata": {
  "kernelspec": {
   "display_name": "Python 3",
   "language": "python",
   "name": "python3"
  },
  "language_info": {
   "codemirror_mode": {
    "name": "ipython",
    "version": 3
   },
   "file_extension": ".py",
   "mimetype": "text/x-python",
   "name": "python",
   "nbconvert_exporter": "python",
   "pygments_lexer": "ipython3",
   "version": "3.8.10"
  }
 },
 "nbformat": 4,
 "nbformat_minor": 5
}
